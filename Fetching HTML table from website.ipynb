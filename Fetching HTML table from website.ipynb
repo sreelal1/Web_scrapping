{
 "cells": [
  {
   "cell_type": "markdown",
   "metadata": {},
   "source": [
    "\n",
    "Following is a python script which can be used to fetch data from the html table found in https://ekartlogistics.com/track/FMPP0675866319/\n",
    "\n",
    "In each iteration, the script will take each record from the input.xlsx file and fetch the data from the table. Finally it will write the data to an excel sheet."
   ]
  },
  {
   "cell_type": "code",
   "execution_count": null,
   "metadata": {
    "colab": {
     "base_uri": "https://localhost:8080/"
    },
    "executionInfo": {
     "elapsed": 1529,
     "status": "ok",
     "timestamp": 1606456006751,
     "user": {
      "displayName": "Sreelal B",
      "photoUrl": "",
      "userId": "15312841123782280505"
     },
     "user_tz": -330
    },
    "id": "OPayEBFp_7Pa",
    "outputId": "f4204a1f-94de-4657-c8e9-50bf795f3478"
   },
   "outputs": [
    {
     "data": {
      "text/plain": [
       "['FMPP0597769925', 'FMPP0603212571', 'FMPP0600083747']"
      ]
     },
     "execution_count": 2,
     "metadata": {
      "tags": []
     },
     "output_type": "execute_result"
    }
   ],
   "source": [
    "#importing the input file\n",
    "\n",
    "df = pd.read_excel(io.BytesIO(uploaded['input.xlsx']),header=None,names=['ID'])\n",
    "df\n",
    "item = df['ID'].tolist()\n",
    "item"
   ]
  },
  {
   "cell_type": "code",
   "execution_count": null,
   "metadata": {
    "colab": {
     "base_uri": "https://localhost:8080/"
    },
    "executionInfo": {
     "elapsed": 6988,
     "status": "ok",
     "timestamp": 1606457463034,
     "user": {
      "displayName": "Sreelal B",
      "photoUrl": "",
      "userId": "15312841123782280505"
     },
     "user_tz": -330
    },
    "id": "TPrTqaf1U2yG",
    "outputId": "d0b7d380-609a-4b9d-f44a-03a93ae03216"
   },
   "outputs": [
    {
     "name": "stdout",
     "output_type": "stream",
     "text": [
      "Collecting xlsxwriter\n",
      "\u001b[?25l  Downloading https://files.pythonhosted.org/packages/6b/41/bf1aae04932d1eaffee1fc5f8b38ca47bbbf07d765129539bc4bcce1ce0c/XlsxWriter-1.3.7-py2.py3-none-any.whl (144kB)\n",
      "\r",
      "\u001b[K     |██▎                             | 10kB 9.7MB/s eta 0:00:01\r",
      "\u001b[K     |████▌                           | 20kB 11.7MB/s eta 0:00:01\r",
      "\u001b[K     |██████▉                         | 30kB 13.6MB/s eta 0:00:01\r",
      "\u001b[K     |█████████                       | 40kB 10.5MB/s eta 0:00:01\r",
      "\u001b[K     |███████████▎                    | 51kB 4.8MB/s eta 0:00:01\r",
      "\u001b[K     |█████████████▋                  | 61kB 4.9MB/s eta 0:00:01\r",
      "\u001b[K     |███████████████▉                | 71kB 4.8MB/s eta 0:00:01\r",
      "\u001b[K     |██████████████████▏             | 81kB 2.7MB/s eta 0:00:01\r",
      "\u001b[K     |████████████████████▍           | 92kB 2.9MB/s eta 0:00:01\r",
      "\u001b[K     |██████████████████████▋         | 102kB 3.1MB/s eta 0:00:01\r",
      "\u001b[K     |█████████████████████████       | 112kB 3.1MB/s eta 0:00:01\r",
      "\u001b[K     |███████████████████████████▏    | 122kB 3.1MB/s eta 0:00:01\r",
      "\u001b[K     |█████████████████████████████▌  | 133kB 3.1MB/s eta 0:00:01\r",
      "\u001b[K     |███████████████████████████████▊| 143kB 3.1MB/s eta 0:00:01\r",
      "\u001b[K     |████████████████████████████████| 153kB 3.1MB/s \n",
      "\u001b[?25hInstalling collected packages: xlsxwriter\n",
      "Successfully installed xlsxwriter-1.3.7\n"
     ]
    }
   ],
   "source": [
    "# installing the package to write data to spreadsheet and calling an instance of the package\n",
    "\n",
    "!pip install xlsxwriter\n",
    "writer = pd.ExcelWriter('output.xlsx',mode = 'a', engine=None)"
   ]
  },
  {
   "cell_type": "code",
   "execution_count": null,
   "metadata": {
    "id": "NgBkQ4Fj_O8T"
   },
   "outputs": [],
   "source": [
    "# importing pandas library from python to work with messy data\n",
    "import pandas as pd\n",
    "\n",
    "\n",
    "# importing requests library to interact with web content\n",
    "import requests \n",
    "\n",
    "\n",
    "# for scraping web contents\n",
    "from bs4 import BeautifulSoup\n",
    "\n",
    "\n",
    "# creating a loop to iterate through each id from the input file \n",
    "for i in range(len(item)):\n",
    "    \n",
    "    # below is the link to ekartlogistics tracking site\n",
    "    link = 'https://ekartlogistics.com/track/{}/'.format(item[i])\n",
    "    \n",
    "    # saving the id to a variable\n",
    "    a = item[i]\n",
    "    \n",
    "    # connecting to the site\n",
    "    req = requests.get(link)\n",
    "      \n",
    "    # parsing web data\n",
    "    soup = BeautifulSoup(req.content, \"html.parser\")\n",
    "\n",
    "    # finding the table having ekart tracking data - our target table is the last one in the page\n",
    "    thead = soup.find_all('thead')[-1]\n",
    "\n",
    "    # getting all the column headers from the table\n",
    "    head = thead.find_all('tr')\n",
    "\n",
    "    # finding the table body\n",
    "    tbody = soup.find_all('tbody')[-1]\n",
    "\n",
    "    # getting the content from the table body\n",
    "    body = tbody.find_all('tr')\n",
    "\n",
    "    \n",
    "    # To store the fetched data in a tabular format\n",
    "    \n",
    "    # container for table header\n",
    "    head_rows = []\n",
    "    # container for table body\n",
    "    body_rows = []\n",
    "\n",
    "    # looping through the stored variables and appending the data to the containers\n",
    "    for tr in head:\n",
    "        td = tr.find_all(['th', 'td'])\n",
    "        row = [i.text for i in td]\n",
    "        head_rows.append(row)\n",
    "    for tr in body:\n",
    "        td = tr.find_all(['th', 'td'])\n",
    "        row = [i.text for i in td]\n",
    "        body_rows.append(row)\n",
    "        \n",
    "    \n",
    "    # creating a data frame with the fetched data from the site\n",
    "    df = pd.DataFrame(body_rows[:len(body_rows)],columns=head_rows[0]) \n",
    "    \n",
    "    df.to_excel(writer,sheet_name='{}'.format(item[i]), index= False)  \n",
    "    \n",
    "writer.save()"
   ]
  },
  {
   "cell_type": "code",
   "execution_count": null,
   "metadata": {
    "colab": {
     "base_uri": "https://localhost:8080/",
     "height": 447
    },
    "executionInfo": {
     "elapsed": 3165,
     "status": "ok",
     "timestamp": 1606453624922,
     "user": {
      "displayName": "Sreelal B",
      "photoUrl": "",
      "userId": "15312841123782280505"
     },
     "user_tz": -330
    },
    "id": "7sR25N3FGJXI",
    "outputId": "009c6112-0698-41d9-905f-27fbc819a66c"
   },
   "outputs": [
    {
     "data": {
      "text/html": [
       "<div>\n",
       "<style scoped>\n",
       "    .dataframe tbody tr th:only-of-type {\n",
       "        vertical-align: middle;\n",
       "    }\n",
       "\n",
       "    .dataframe tbody tr th {\n",
       "        vertical-align: top;\n",
       "    }\n",
       "\n",
       "    .dataframe thead th {\n",
       "        text-align: right;\n",
       "    }\n",
       "</style>\n",
       "<table border=\"1\" class=\"dataframe\">\n",
       "  <thead>\n",
       "    <tr style=\"text-align: right;\">\n",
       "      <th></th>\n",
       "      <th>Date</th>\n",
       "      <th>Time</th>\n",
       "      <th>Place</th>\n",
       "      <th>Status</th>\n",
       "    </tr>\n",
       "  </thead>\n",
       "  <tbody>\n",
       "    <tr>\n",
       "      <th>0</th>\n",
       "      <td>Friday 6th November</td>\n",
       "      <td>09:34 PM</td>\n",
       "      <td>Varanasi</td>\n",
       "      <td>Delivered</td>\n",
       "    </tr>\n",
       "    <tr>\n",
       "      <th>1</th>\n",
       "      <td>Friday 6th November</td>\n",
       "      <td>11:02 AM</td>\n",
       "      <td>Varanasi</td>\n",
       "      <td>Out For Delivery</td>\n",
       "    </tr>\n",
       "    <tr>\n",
       "      <th>2</th>\n",
       "      <td>Friday 6th November</td>\n",
       "      <td>07:17 AM</td>\n",
       "      <td>Varanasi</td>\n",
       "      <td>Received at Sigra Hub</td>\n",
       "    </tr>\n",
       "    <tr>\n",
       "      <th>3</th>\n",
       "      <td>Thursday 5th November</td>\n",
       "      <td>08:13 PM</td>\n",
       "      <td>Varanasi</td>\n",
       "      <td>Dispatched to Sigra Hub</td>\n",
       "    </tr>\n",
       "    <tr>\n",
       "      <th>4</th>\n",
       "      <td>Thursday 5th November</td>\n",
       "      <td>12:02 AM</td>\n",
       "      <td>Lucknow</td>\n",
       "      <td>Received at MotherHub_LKO</td>\n",
       "    </tr>\n",
       "    <tr>\n",
       "      <th>5</th>\n",
       "      <td>Wednesday 4th November</td>\n",
       "      <td>09:21 AM</td>\n",
       "      <td>Lucknow</td>\n",
       "      <td>Dispatched to MotherHub_LKO</td>\n",
       "    </tr>\n",
       "    <tr>\n",
       "      <th>6</th>\n",
       "      <td>Wednesday 4th November</td>\n",
       "      <td>05:32 AM</td>\n",
       "      <td>Gurgaon</td>\n",
       "      <td>Received at Motherhub_JKS</td>\n",
       "    </tr>\n",
       "    <tr>\n",
       "      <th>7</th>\n",
       "      <td>Wednesday 4th November</td>\n",
       "      <td>05:04 AM</td>\n",
       "      <td>Gurgaon</td>\n",
       "      <td>Received at Motherhub_JKS</td>\n",
       "    </tr>\n",
       "    <tr>\n",
       "      <th>8</th>\n",
       "      <td>Wednesday 4th November</td>\n",
       "      <td>03:06 AM</td>\n",
       "      <td>Gurgaon</td>\n",
       "      <td>Dispatched to Motherhub_JKS</td>\n",
       "    </tr>\n",
       "    <tr>\n",
       "      <th>9</th>\n",
       "      <td>Tuesday 3rd November</td>\n",
       "      <td>10:50 PM</td>\n",
       "      <td>Bilaspur</td>\n",
       "      <td>Received at Bilaspur Sort Facility</td>\n",
       "    </tr>\n",
       "    <tr>\n",
       "      <th>10</th>\n",
       "      <td>Tuesday 3rd November</td>\n",
       "      <td>10:50 PM</td>\n",
       "      <td>Bilaspur</td>\n",
       "      <td>Received at Bilaspur Sort Facility</td>\n",
       "    </tr>\n",
       "    <tr>\n",
       "      <th>11</th>\n",
       "      <td>Tuesday 3rd November</td>\n",
       "      <td>10:38 PM</td>\n",
       "      <td>Bilaspur</td>\n",
       "      <td>Dispatched to Bilaspur Sort Facility</td>\n",
       "    </tr>\n",
       "    <tr>\n",
       "      <th>12</th>\n",
       "      <td>Tuesday 3rd November</td>\n",
       "      <td>10:38 PM</td>\n",
       "      <td>Gurgaon</td>\n",
       "      <td>Shipment Created</td>\n",
       "    </tr>\n",
       "  </tbody>\n",
       "</table>\n",
       "</div>"
      ],
      "text/plain": [
       "                      Date  ...                                Status\n",
       "0      Friday 6th November  ...                             Delivered\n",
       "1      Friday 6th November  ...                      Out For Delivery\n",
       "2      Friday 6th November  ...                 Received at Sigra Hub\n",
       "3    Thursday 5th November  ...               Dispatched to Sigra Hub\n",
       "4    Thursday 5th November  ...             Received at MotherHub_LKO\n",
       "5   Wednesday 4th November  ...           Dispatched to MotherHub_LKO\n",
       "6   Wednesday 4th November  ...             Received at Motherhub_JKS\n",
       "7   Wednesday 4th November  ...             Received at Motherhub_JKS\n",
       "8   Wednesday 4th November  ...           Dispatched to Motherhub_JKS\n",
       "9     Tuesday 3rd November  ...    Received at Bilaspur Sort Facility\n",
       "10    Tuesday 3rd November  ...    Received at Bilaspur Sort Facility\n",
       "11    Tuesday 3rd November  ...  Dispatched to Bilaspur Sort Facility\n",
       "12    Tuesday 3rd November  ...                      Shipment Created\n",
       "\n",
       "[13 rows x 4 columns]"
      ]
     },
     "execution_count": 8,
     "metadata": {
      "tags": []
     },
     "output_type": "execute_result"
    }
   ],
   "source": [
    "df"
   ]
  }
 ],
 "metadata": {
  "colab": {
   "collapsed_sections": [],
   "name": "Copy of Ekart_Tracking.ipynb",
   "provenance": []
  },
  "kernelspec": {
   "display_name": "Python 3",
   "language": "python",
   "name": "python3"
  },
  "language_info": {
   "codemirror_mode": {
    "name": "ipython",
    "version": 3
   },
   "file_extension": ".py",
   "mimetype": "text/x-python",
   "name": "python",
   "nbconvert_exporter": "python",
   "pygments_lexer": "ipython3",
   "version": "3.8.5"
  }
 },
 "nbformat": 4,
 "nbformat_minor": 1
}
