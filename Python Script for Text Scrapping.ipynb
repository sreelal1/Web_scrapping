{
 "cells": [
  {
   "cell_type": "code",
   "execution_count": 9,
   "metadata": {},
   "outputs": [],
   "source": [
    "import requests"
   ]
  },
  {
   "cell_type": "code",
   "execution_count": 10,
   "metadata": {},
   "outputs": [],
   "source": [
    "import bs4\n",
    "import fileinput"
   ]
  },
  {
   "cell_type": "code",
   "execution_count": 11,
   "metadata": {},
   "outputs": [],
   "source": [
    "res = requests.get('https://www.pythonforbeginners.com/requests/using-requests-in-python')"
   ]
  },
  {
   "cell_type": "code",
   "execution_count": 15,
   "metadata": {},
   "outputs": [],
   "source": [
    "soup =  bs4.BeautifulSoup(res.text, 'lxml')"
   ]
  },
  {
   "cell_type": "code",
   "execution_count": 19,
   "metadata": {},
   "outputs": [
    {
     "name": "stdout",
     "output_type": "stream",
     "text": [
      "PythonForBeginners.com\n",
      "Learn By Example\n",
      "Last Updated: May 20, 2020 \n",
      "First things first, let’s introduce you to Requests.\n",
      "Requests is an Apache2 Licensed HTTP library, written in Python. It is designed to be used by humans to interact with the language. This means you don’t have to manually add query strings to URLs, or form-encode your POST data. Don’t worry if that made no sense to you. It will in due time.\n",
      "What can Requests do?\n",
      "Requests will allow you to send HTTP/1.1 requests using Python. With it, you can add content like headers, form data, multipart files, and parameters via simple Python libraries. It also allows you to access the response data of Python in the same way.\n",
      "In programming, a library is a collection or pre-configured selection of routines, functions, and operations that a program can use. These elements are often referred to as modules, and stored in object format.\n",
      "Libraries are important, because you load a module and take advantage of everything it offers without explicitly linking to every program that relies on them. They are truly standalone, so you can build your own programs with them and yet they remain separate from other programs.\n",
      "Think of modules as a sort of code template.\n",
      "To reiterate, Requests is a Python library.\n",
      "The good news is that there are a few ways to install the Requests library. To see the full list of options at your disposal, you can view the official install documentation for Requests here.\n",
      "You can make use of pip, easy_install, or tarball.\n",
      "If you’d rather work with source code, you can get that on GitHub, as well.\n",
      "For the purpose of this guide, we are going to use pip to install the library.\n",
      "In your Python interpreter, type the following:\n",
      "To work with the Requests library in Python, you must import the appropriate module. You can do this simply by adding the following code at the beginning of your script:\n",
      "Of course, to do any of this – installing the library included – you need to download the necessary package first and have it accessible to the interpreter.\n",
      "For Python training, our top recommendation is DataCamp.\n",
      "When you ping a website or portal for information this is called making a request. That is exactly what the Requests library has been designed to do.\n",
      "To get a webpage you would do something like the following:\n",
      "Before you can do anything with a website or URL in Python, it’s a good idea to check the current status code of said portal. You can do this with the dictionary look-up object.\n",
      "After a web server returns a response, you can collect the content you need. This is also done using the get requests function.\n",
      "By utilizing a Python dictionary, you can access and view a server’s response headers. Thanks to how Requests works, you can access the headers using any capitalization you’d like.\n",
      "If you perform this function but a header doesn’t exist in the response, the value will default to None.\n",
      "Requests will automatically decade any content pulled from a server. But most Unicode character sets are seamlessly decoded anyway.\n",
      "When you make a request to a server, the Requests library make an educated guess about the encoding for the response, and it does this based on the HTTP headers. The encoding that is guessed will be used when you access the r.text file.\n",
      "Through this file, you can discern what encoding the Requests library is using, and change it if need be. This is possible thanks to the r.encoding property you’ll find in the file.\n",
      "If and when you change the encoding value, Requests will use the new type so long as you call r.text in your code.\n",
      "If you want to add custom HTTP headers to a request, you must pass them through a dictionary to the headers parameter.\n",
      "Requests will automatically perform a location redirection when you use the GET and OPTIONS verbs in Python.\n",
      "GitHub will redirect all HTTP requests to HTTPS automatically. This keeps things secure and encrypted.\n",
      "You can use the history method of the response object to track redirection status.\n",
      "You can also handle post requests using the Requests library.\n",
      "But you can also rely on other HTTP requests too, like PUT, DELETE, HEAD, and OPTIONS.\n",
      "You can use these methods to accomplish a great many things. For instance, using a Python script to create a GitHub repo.\n",
      "There are a number of exceptions and error codes you need to be familiar with when using the Requests library in Python.\n",
      "Any exceptions that Requests raises will be inherited from the requests.exceptions.RequestException object.\n",
      "You can read more about the Requests library at the links below.\n",
      "http://docs.python-requests.org/en/latest/api/\n",
      "http://pypi.python.org/pypi/requests\n",
      "http://docs.python-requests.org/en/latest/user/quickstart/\n",
      "http://isbullsh.it/2012/06/Rest-api-in-python/#requests\n",
      "For Python training, our top recommendation is DataCamp.\n",
      "Filed Under: Requests\n",
      "Date Originally Published: February 11, 2013\n",
      "Copyright © 2012–2020 · PythonForBeginners.com\n"
     ]
    }
   ],
   "source": [
    "f = open('Scraped text.txt', 'w')\n",
    "text = soup.select('p')\n",
    "for i in text:\n",
    "    temp = i.getText()\n",
    "    print(temp)\n",
    "    f.write(temp)\n",
    "    f.write('\\n')\n",
    "f.close()"
   ]
  }
 ],
 "metadata": {
  "kernelspec": {
   "display_name": "Python 3",
   "language": "python",
   "name": "python3"
  },
  "language_info": {
   "codemirror_mode": {
    "name": "ipython",
    "version": 3
   },
   "file_extension": ".py",
   "mimetype": "text/x-python",
   "name": "python",
   "nbconvert_exporter": "python",
   "pygments_lexer": "ipython3",
   "version": "3.8.5"
  }
 },
 "nbformat": 4,
 "nbformat_minor": 2
}
